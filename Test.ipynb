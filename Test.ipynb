{
 "cells": [
  {
   "cell_type": "code",
   "execution_count": 15,
   "id": "b0ced0ff-4a1b-4039-952a-145a655860ae",
   "metadata": {},
   "outputs": [],
   "source": [
    "import numpy as np"
   ]
  },
  {
   "cell_type": "code",
   "execution_count": 51,
   "id": "44bd3781-d30f-45b0-bccd-7f29875ecc51",
   "metadata": {},
   "outputs": [],
   "source": [
    "class QuantumState:\n",
    "\n",
    "    def __init__(self,num_qubit):\n",
    "        self._num_qubit=num_qubit\n",
    "        self._state_vec={\"0\"*num_qubit:1}\n",
    "\n",
    "    def show_state(self):\n",
    "        for key in self._state_vec.keys():\n",
    "            print(str(self._state_vec[key])+\"|\"+key+\">\")\n",
    "    \n",
    "    def normalize(self):\n",
    "        summation=0\n",
    "        for key in self._state_vec.keys():\n",
    "            summation=summation+self._state_vec[key]*np.conjugate(self._state_vec[key])\n",
    "        summation=np.sqrt(summation)\n",
    "        for key in self._state_vec.keys():\n",
    "            self._state_vec[key]=self._state_vec[key]/summation\n",
    "\n",
    "    '''\n",
    "    Multiply I+XZX\n",
    "    '''\n",
    "    def act_stablizer(self,String):\n",
    "        new_state_vec={}\n",
    "        for key in self._state_vec.keys():\n",
    "            if key in new_state_vec.keys():\n",
    "                new_state_vec[key]=new_state_vec[key]+self._state_vec[key]\n",
    "            else:\n",
    "                new_state_vec[key]=self._state_vec[key]\n",
    "            newstatekey=\"\"\n",
    "            sign=1\n",
    "            for index in range(0,len(key)):\n",
    "                if(String[index]==\"I\"):\n",
    "                    newstatekey=newstatekey+key[index]\n",
    "                elif(String[index]==\"Z\"):\n",
    "                    newstatekey=newstatekey+key[index]\n",
    "                    if(key[index]==\"1\"):\n",
    "                        sign=(-1)*sign\n",
    "                elif(String[index]==\"X\"):\n",
    "                    if(key[index]==\"1\"):\n",
    "                        newstatekey=newstatekey+\"0\"\n",
    "                    else:\n",
    "                        newstatekey=newstatekey+\"1\"\n",
    "            if newstatekey in new_state_vec.keys(): \n",
    "                new_state_vec[newstatekey]=new_state_vec[newstatekey]+sign*self._state_vec[key]\n",
    "            else:\n",
    "                new_state_vec[newstatekey]=sign*self._state_vec[key]           \n",
    "        self._state_vec=new_state_vec\n",
    "\n",
    "\n",
    "    def act_stabilizer_group(self,stabilizer):\n",
    "        for stabstring in stabilizer._stringList:\n",
    "            self.act_stablizer(stabstring)\n",
    "        self.normalize()"
   ]
  },
  {
   "cell_type": "code",
   "execution_count": 52,
   "id": "99aa9be1-ab00-4bf5-82f5-284d95fa21f2",
   "metadata": {},
   "outputs": [],
   "source": [
    "class Stabilizer:\n",
    "\n",
    "    '''\n",
    "    Initialize the stabilizer by a string list such as [\"ZZI\",\"ZIZ\",\"IZZ\"]\n",
    "    '''\n",
    "    def __init__(self,num_qubit,stringList):\n",
    "        self._num_qubit=num_qubit\n",
    "        self._stringList=stringList"
   ]
  },
  {
   "cell_type": "code",
   "execution_count": 60,
   "id": "d6b9ee97-8f85-4ef3-a7dd-68e7e1149b48",
   "metadata": {},
   "outputs": [
    {
     "ename": "NameError",
     "evalue": "name 'np' is not defined",
     "output_type": "error",
     "traceback": [
      "\u001b[1;31m---------------------------------------------------------------------------\u001b[0m",
      "\u001b[1;31mNameError\u001b[0m                                 Traceback (most recent call last)",
      "Cell \u001b[1;32mIn[60], line 5\u001b[0m\n\u001b[0;32m      3\u001b[0m psi\u001b[38;5;241m=\u001b[39mQuantumState(\u001b[38;5;241m5\u001b[39m)\n\u001b[0;32m      4\u001b[0m Stab\u001b[38;5;241m=\u001b[39mStabilizer(\u001b[38;5;241m5\u001b[39m,[\u001b[38;5;124m\"\u001b[39m\u001b[38;5;124mXZZXI\u001b[39m\u001b[38;5;124m\"\u001b[39m,\u001b[38;5;124m\"\u001b[39m\u001b[38;5;124mIXZZX\u001b[39m\u001b[38;5;124m\"\u001b[39m,\u001b[38;5;124m\"\u001b[39m\u001b[38;5;124mXIXZZ\u001b[39m\u001b[38;5;124m\"\u001b[39m,\u001b[38;5;124m\"\u001b[39m\u001b[38;5;124mZXIXZ\u001b[39m\u001b[38;5;124m\"\u001b[39m])\n\u001b[1;32m----> 5\u001b[0m \u001b[43mpsi\u001b[49m\u001b[38;5;241;43m.\u001b[39;49m\u001b[43mact_stabilizer_group\u001b[49m\u001b[43m(\u001b[49m\u001b[43mStab\u001b[49m\u001b[43m)\u001b[49m\n",
      "File \u001b[1;32m\\\\ripley\\Participants\\zye\\My Documents\\GitHub\\QECEncDec\\stabilizer.py:53\u001b[0m, in \u001b[0;36mQuantumState.act_stabilizer_group\u001b[1;34m(self, stabilizer)\u001b[0m\n\u001b[0;32m     51\u001b[0m \u001b[38;5;28;01mfor\u001b[39;00m stabstring \u001b[38;5;129;01min\u001b[39;00m stabilizer\u001b[38;5;241m.\u001b[39m_stringList:\n\u001b[0;32m     52\u001b[0m     \u001b[38;5;28mself\u001b[39m\u001b[38;5;241m.\u001b[39mact_stablizer(stabstring)\n\u001b[1;32m---> 53\u001b[0m \u001b[38;5;28;43mself\u001b[39;49m\u001b[38;5;241;43m.\u001b[39;49m\u001b[43mnormalize\u001b[49m\u001b[43m(\u001b[49m\u001b[43m)\u001b[49m\n",
      "File \u001b[1;32m\\\\ripley\\Participants\\zye\\My Documents\\GitHub\\QECEncDec\\stabilizer.py:14\u001b[0m, in \u001b[0;36mQuantumState.normalize\u001b[1;34m(self)\u001b[0m\n\u001b[0;32m     12\u001b[0m summation\u001b[38;5;241m=\u001b[39m\u001b[38;5;241m0\u001b[39m\n\u001b[0;32m     13\u001b[0m \u001b[38;5;28;01mfor\u001b[39;00m key \u001b[38;5;129;01min\u001b[39;00m \u001b[38;5;28mself\u001b[39m\u001b[38;5;241m.\u001b[39m_state_vec\u001b[38;5;241m.\u001b[39mkeys():\n\u001b[1;32m---> 14\u001b[0m     summation\u001b[38;5;241m=\u001b[39msummation\u001b[38;5;241m+\u001b[39m\u001b[38;5;28mself\u001b[39m\u001b[38;5;241m.\u001b[39m_state_vec[key]\u001b[38;5;241m*\u001b[39m\u001b[43mnp\u001b[49m\u001b[38;5;241m.\u001b[39mconjugate(\u001b[38;5;28mself\u001b[39m\u001b[38;5;241m.\u001b[39m_state_vec[key])\n\u001b[0;32m     15\u001b[0m summation\u001b[38;5;241m=\u001b[39mnp\u001b[38;5;241m.\u001b[39msqrt(summation)\n\u001b[0;32m     16\u001b[0m \u001b[38;5;28;01mfor\u001b[39;00m key \u001b[38;5;129;01min\u001b[39;00m \u001b[38;5;28mself\u001b[39m\u001b[38;5;241m.\u001b[39m_state_vec\u001b[38;5;241m.\u001b[39mkeys():\n",
      "\u001b[1;31mNameError\u001b[0m: name 'np' is not defined"
     ]
    }
   ],
   "source": [
    "from stabilizer import *\n",
    "\n",
    "psi=QuantumState(5)\n",
    "Stab=Stabilizer(5,[\"XZZXI\",\"IXZZX\",\"XIXZZ\",\"ZXIXZ\"])\n",
    "psi.act_stabilizer_group(Stab)"
   ]
  },
  {
   "cell_type": "code",
   "execution_count": 58,
   "id": "1071b45c-7087-439e-ba42-e74bf6d89e22",
   "metadata": {},
   "outputs": [
    {
     "name": "stdout",
     "output_type": "stream",
     "text": [
      "0.25|00000>\n",
      "0.25|01010>\n",
      "0.25|10100>\n",
      "-0.25|11110>\n",
      "0.25|01001>\n",
      "-0.25|00011>\n",
      "-0.25|11101>\n",
      "-0.25|10111>\n",
      "0.25|10010>\n",
      "-0.25|11000>\n",
      "-0.25|00110>\n",
      "-0.25|01100>\n",
      "-0.25|11011>\n",
      "-0.25|10001>\n",
      "-0.25|01111>\n",
      "0.25|00101>\n"
     ]
    }
   ],
   "source": [
    "psi.show_state()"
   ]
  }
 ],
 "metadata": {
  "kernelspec": {
   "display_name": "Python 3 (ipykernel)",
   "language": "python",
   "name": "python3"
  },
  "language_info": {
   "codemirror_mode": {
    "name": "ipython",
    "version": 3
   },
   "file_extension": ".py",
   "mimetype": "text/x-python",
   "name": "python",
   "nbconvert_exporter": "python",
   "pygments_lexer": "ipython3",
   "version": "3.12.4"
  }
 },
 "nbformat": 4,
 "nbformat_minor": 5
}
