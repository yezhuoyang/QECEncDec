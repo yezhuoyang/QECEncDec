{
 "cells": [
  {
   "cell_type": "code",
   "execution_count": 47,
   "id": "b0ced0ff-4a1b-4039-952a-145a655860ae",
   "metadata": {},
   "outputs": [],
   "source": [
    "import numpy as np"
   ]
  },
  {
   "cell_type": "code",
   "execution_count": 48,
   "id": "44bd3781-d30f-45b0-bccd-7f29875ecc51",
   "metadata": {},
   "outputs": [],
   "source": [
    "class QuantumState:\n",
    "\n",
    "    def __init__(self,num_qubit):\n",
    "        self._num_qubit=num_qubit\n",
    "        self._state_vec = {format(i, f'0{num_qubit}b'): 1 for i in range(2 ** num_qubit)}\n",
    "\n",
    "    def show_state(self):\n",
    "        for key in self._state_vec.keys():\n",
    "            print(str(self._state_vec[key])+\"|\"+key+\">\")\n",
    "    \n",
    "    def normalize(self):\n",
    "        summation=0\n",
    "        for key in self._state_vec.keys():\n",
    "            summation=summation+self._state_vec[key]*np.conjugate(self._state_vec[key])\n",
    "        summation=np.sqrt(summation)\n",
    "        for key in self._state_vec.keys():\n",
    "            self._state_vec[key]=self._state_vec[key]/summation\n",
    "\n",
    "    '''\n",
    "    Multiply I+XZX\n",
    "    '''\n",
    "    def act_stablizer(self,String):\n",
    "        new_state_vec={}\n",
    "        negative=False\n",
    "        if(String[0]==\"-\"):\n",
    "            String=String[1:]\n",
    "            negative=True\n",
    "        for key in self._state_vec.keys():\n",
    "            if key in new_state_vec.keys():\n",
    "                new_state_vec[key]=new_state_vec[key]+self._state_vec[key]\n",
    "            else:\n",
    "                new_state_vec[key]=self._state_vec[key]\n",
    "            newstatekey=\"\"\n",
    "            sign=1 if negative==False else -1\n",
    "            for index in range(0,len(key)):\n",
    "                if(String[index]==\"I\"):\n",
    "                    newstatekey=newstatekey+key[index]\n",
    "                elif(String[index]==\"Z\"):\n",
    "                    newstatekey=newstatekey+key[index]\n",
    "                    if(key[index]==\"1\"):\n",
    "                        sign=(-1)*sign\n",
    "                elif(String[index]==\"X\"):\n",
    "                    if(key[index]==\"1\"):\n",
    "                        newstatekey=newstatekey+\"0\"\n",
    "                    else:\n",
    "                        newstatekey=newstatekey+\"1\"\n",
    "            if newstatekey in new_state_vec.keys(): \n",
    "                new_state_vec[newstatekey]=new_state_vec[newstatekey]+sign*self._state_vec[key]\n",
    "            else:\n",
    "                new_state_vec[newstatekey]=sign*self._state_vec[key]                  \n",
    "        self._state_vec=new_state_vec\n",
    "\n",
    "\n",
    "    def act_stabilizer_group(self,stabilizer):\n",
    "        for stabstring in stabilizer._stringList:\n",
    "            self.act_stablizer(stabstring)\n",
    "        self.normalize()"
   ]
  },
  {
   "cell_type": "code",
   "execution_count": 49,
   "id": "99aa9be1-ab00-4bf5-82f5-284d95fa21f2",
   "metadata": {},
   "outputs": [],
   "source": [
    "class Stabilizer:\n",
    "\n",
    "    '''\n",
    "    Initialize the stabilizer by a string list such as [\"ZZI\",\"ZIZ\",\"IZZ\"]\n",
    "    '''\n",
    "    def __init__(self,num_qubit,stringList):\n",
    "        self._num_qubit=num_qubit\n",
    "        self._stringList=stringList"
   ]
  },
  {
   "cell_type": "code",
   "execution_count": 59,
   "id": "4a1f560f",
   "metadata": {},
   "outputs": [
    {
     "name": "stdout",
     "output_type": "stream",
     "text": [
      "nan|0>\n"
     ]
    },
    {
     "name": "stderr",
     "output_type": "stream",
     "text": [
      "C:\\Users\\73747\\AppData\\Local\\Temp\\ipykernel_10084\\2194995577.py:17: RuntimeWarning: invalid value encountered in double_scalars\n",
      "  self._state_vec[key]=self._state_vec[key]/summation\n"
     ]
    }
   ],
   "source": [
    "psi=QuantumState(1)\n",
    "Stab=Stabilizer(1,[\"-Z\"])\n",
    "psi.act_stabilizer_group(Stab)\n",
    "psi.show_state()"
   ]
  },
  {
   "cell_type": "code",
   "execution_count": null,
   "id": "62932ca1",
   "metadata": {},
   "outputs": [],
   "source": []
  },
  {
   "cell_type": "code",
   "execution_count": 55,
   "id": "d6b9ee97-8f85-4ef3-a7dd-68e7e1149b48",
   "metadata": {},
   "outputs": [],
   "source": [
    "#from stabilizer import *\n",
    "\n",
    "psi=QuantumState(8)\n",
    "Stab=Stabilizer(8,[\"ZZZZIIII\",\"ZZIIZZII\",\"ZIZIZIZI\",\"ZZZZZZZZ\",\"XXXXXXXX\",\"ZIIIZIII\",\"ZIZIIIII\",\"ZZIIIIII\"])\n",
    "psi.act_stabilizer_group(Stab)"
   ]
  },
  {
   "cell_type": "code",
   "execution_count": 56,
   "id": "1071b45c-7087-439e-ba42-e74bf6d89e22",
   "metadata": {},
   "outputs": [
    {
     "name": "stdout",
     "output_type": "stream",
     "text": [
      "0.7071067811865475|00000000>\n",
      "0.7071067811865475|11111111>\n"
     ]
    }
   ],
   "source": [
    "psi.show_state()"
   ]
  },
  {
   "cell_type": "code",
   "execution_count": 13,
   "id": "cf5c4a2a",
   "metadata": {},
   "outputs": [],
   "source": [
    "#from stabilizer import *\n",
    "\n",
    "psi=QuantumState(8)\n",
    "Stab=Stabilizer(8,[\"IIIIIIII\",])\n",
    "psi.act_stabilizer_group(Stab)"
   ]
  },
  {
   "cell_type": "code",
   "execution_count": null,
   "id": "f863f4af",
   "metadata": {},
   "outputs": [],
   "source": []
  }
 ],
 "metadata": {
  "kernelspec": {
   "display_name": "Python 3 (ipykernel)",
   "language": "python",
   "name": "python3"
  },
  "language_info": {
   "codemirror_mode": {
    "name": "ipython",
    "version": 3
   },
   "file_extension": ".py",
   "mimetype": "text/x-python",
   "name": "python",
   "nbconvert_exporter": "python",
   "pygments_lexer": "ipython3",
   "version": "3.11.1"
  }
 },
 "nbformat": 4,
 "nbformat_minor": 5
}
